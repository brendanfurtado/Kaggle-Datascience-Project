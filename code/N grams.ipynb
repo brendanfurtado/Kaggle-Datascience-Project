{
 "cells": [
  {
   "cell_type": "code",
   "execution_count": 34,
   "metadata": {},
   "outputs": [],
   "source": [
    "import pandas as pd\n",
    "import numpy as np\n",
    "from sklearn.model_selection import train_test_split\n",
    "\n",
    "#initialize data\n",
    "reddit_data = pd.read_csv(\"reddit_train.csv\") #train data\n",
    "df = pd.DataFrame(reddit_data) #train data\n",
    "reddit_data_copy = reddit_data.copy() #train data\n",
    "reddit_data_copy = reddit_data_copy.drop(columns=[\"subreddits\"]) #train data\n",
    "X = reddit_data_copy[reddit_data_copy.columns[1]]  #raw comments\n",
    "\n",
    "train_comments_list = []\n",
    "for i in range(len(X.index)):\n",
    "    train_comments_list.append(X.iloc[i])\n",
    "train_comments_list = list(train_comments_list)\n",
    "train_comments_list = np.array(train_comments_list)\n",
    "\n",
    "\n",
    "Y = reddit_data[reddit_data.columns[-1]]\n",
    "y_modified = []         #raw classes\n",
    "train_subreddits_class = []    #important, class in integer\n",
    "for i in range(len(Y.index)):\n",
    "    y_modified.append(Y.loc[i])\n",
    "for i in range(len(y_modified)):\n",
    "    if y_modified[i] == 'hockey':\n",
    "        train_subreddits_class.append(1)\n",
    "    elif y_modified[i] == 'nba':\n",
    "        train_subreddits_class.append(2)\n",
    "    elif y_modified[i] == 'leagueoflegends':\n",
    "        train_subreddits_class.append(3)\n",
    "    elif y_modified[i] == 'soccer':\n",
    "        train_subreddits_class.append(4)\n",
    "    elif y_modified[i] == 'funny':\n",
    "        train_subreddits_class.append(5)\n",
    "    elif y_modified[i] == 'movies':\n",
    "        train_subreddits_class.append(6)\n",
    "    elif y_modified[i] == 'Overwatch':\n",
    "        train_subreddits_class.append(7)\n",
    "    elif y_modified[i] == 'anime':\n",
    "        train_subreddits_class.append(8)\n",
    "    elif y_modified[i] == 'trees':\n",
    "        train_subreddits_class.append(9)\n",
    "    elif y_modified[i] == 'GlobalOffensive':\n",
    "        train_subreddits_class.append(10)\n",
    "    elif y_modified[i] == 'nfl':\n",
    "        train_subreddits_class.append(11)\n",
    "    elif y_modified[i] == 'AskReddit':\n",
    "        train_subreddits_class.append(12)\n",
    "    elif y_modified[i] == 'gameofthrones':\n",
    "        train_subreddits_class.append(13)\n",
    "    elif y_modified[i] == 'conspiracy':\n",
    "        train_subreddits_class.append(14)\n",
    "    elif y_modified[i] == 'worldnews':\n",
    "        train_subreddits_class.append(15)\n",
    "    elif y_modified[i] == 'wow':\n",
    "        train_subreddits_class.append(16)\n",
    "    elif y_modified[i] == 'europe':\n",
    "        train_subreddits_class.append(17)\n",
    "    elif y_modified[i] == 'canada':\n",
    "        train_subreddits_class.append(18)\n",
    "    elif y_modified[i] == 'Music':\n",
    "        train_subreddits_class.append(19)\n",
    "    elif y_modified[i] == 'baseball':\n",
    "        train_subreddits_class.append(20)\n",
    "train_subreddits_class = np.array(train_subreddits_class)\n",
    "\n",
    "X_train, X_test, y_train, y_test = train_test_split(train_comments_list, train_subreddits_class, train_size=0.8, test_size=0.2)"
   ]
  },
  {
   "cell_type": "code",
   "execution_count": 35,
   "metadata": {},
   "outputs": [],
   "source": [
    "from sklearn.feature_extraction.text import CountVectorizer\n",
    "import nltk\n",
    "from nltk.corpus import stopwords \n",
    "from nltk.tokenize import word_tokenize\n",
    "from sklearn.preprocessing import normalize\n",
    "\n",
    "vectorizer = CountVectorizer(stop_words = set(stopwords.words('english')), max_df =0.995, ngram_range=(1, 3), min_df = 0.00005)        \n",
    "vectors_train = vectorizer.fit_transform(X_train)\n",
    "vectors_test = vectorizer.transform(X_test)\n",
    "vectors_train_normalized = normalize(vectors_train)\n",
    "vectors_test_normalized = normalize(vectors_test)"
   ]
  },
  {
   "cell_type": "code",
   "execution_count": 37,
   "metadata": {},
   "outputs": [
    {
     "name": "stderr",
     "output_type": "stream",
     "text": [
      "/Users/theone/anaconda3/lib/python3.7/site-packages/sklearn/linear_model/logistic.py:432: FutureWarning: Default solver will be changed to 'lbfgs' in 0.22. Specify a solver to silence this warning.\n",
      "  FutureWarning)\n",
      "/Users/theone/anaconda3/lib/python3.7/site-packages/sklearn/linear_model/logistic.py:469: FutureWarning: Default multi_class will be changed to 'auto' in 0.22. Specify the multi_class option to silence this warning.\n",
      "  \"this warning.\", FutureWarning)\n"
     ]
    },
    {
     "data": {
      "text/plain": [
       "0.5105"
      ]
     },
     "execution_count": 37,
     "metadata": {},
     "output_type": "execute_result"
    }
   ],
   "source": [
    "#use losigitic regression model\n",
    "from sklearn.linear_model import LogisticRegression\n",
    "from sklearn import metrics\n",
    "clf = LogisticRegression()\n",
    "clf.fit(vectors_train_normalized, y_train)\n",
    "y_pred = clf.predict(vectors_test_normalized)\n",
    "print (metrics.accuracy_score(y_test, y_pred))\n",
    "print(metrics.classification_report(y_test, y_pred))"
   ]
  }
 ],
 "metadata": {
  "kernelspec": {
   "display_name": "Python 3",
   "language": "python",
   "name": "python3"
  },
  "language_info": {
   "codemirror_mode": {
    "name": "ipython",
    "version": 3
   },
   "file_extension": ".py",
   "mimetype": "text/x-python",
   "name": "python",
   "nbconvert_exporter": "python",
   "pygments_lexer": "ipython3",
   "version": "3.7.3"
  }
 },
 "nbformat": 4,
 "nbformat_minor": 2
}
